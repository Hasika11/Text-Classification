{
 "cells": [
  {
   "cell_type": "markdown",
   "metadata": {},
   "source": [
    "# Assignment-3 \n",
    "Task 1 - Text Classification\n",
    "Movie Review Classification"
   ]
  },
  {
   "cell_type": "raw",
   "metadata": {},
   "source": [
    "Importing the libraries"
   ]
  },
  {
   "cell_type": "code",
   "execution_count": 1,
   "metadata": {},
   "outputs": [
    {
     "name": "stderr",
     "output_type": "stream",
     "text": [
      "C:\\Users\\hasik\\Anaconda3\\lib\\site-packages\\h5py\\__init__.py:36: FutureWarning: Conversion of the second argument of issubdtype from `float` to `np.floating` is deprecated. In future, it will be treated as `np.float64 == np.dtype(float).type`.\n",
      "  from ._conv import register_converters as _register_converters\n",
      "C:\\Users\\hasik\\Anaconda3\\lib\\site-packages\\gensim\\utils.py:1197: UserWarning: detected Windows; aliasing chunkize to chunkize_serial\n",
      "  warnings.warn(\"detected Windows; aliasing chunkize to chunkize_serial\")\n",
      "Using TensorFlow backend.\n"
     ]
    }
   ],
   "source": [
    "import numpy as np\n",
    "import tensorflow as tf\n",
    "from gensim.models import Word2Vec\n",
    "from nltk.corpus import brown\n",
    "from keras.layers.core import Activation, Dense, Dropout, SpatialDropout1D\n",
    "from keras.layers.embeddings import Embedding\n",
    "from keras.layers.recurrent import LSTM\n",
    "from keras.layers import Bidirectional\n",
    "from keras.models import Sequential\n",
    "from keras.layers.convolutional import Conv1D\n",
    "from keras.layers.convolutional import MaxPooling1D\n",
    "from keras.layers.embeddings import Embedding\n",
    "from keras.preprocessing import sequence\n",
    "from keras.layers import Flatten\n",
    "from sklearn.model_selection import train_test_split\n",
    "import collections\n",
    "import matplotlib.pyplot as plt\n",
    "import nltk\n",
    "import numpy as np\n",
    "import os\n",
    "from nltk.corpus import stopwords"
   ]
  },
  {
   "cell_type": "markdown",
   "metadata": {},
   "source": [
    "Generating the corpus"
   ]
  },
  {
   "cell_type": "code",
   "execution_count": 2,
   "metadata": {},
   "outputs": [],
   "source": [
    "DATA_DIR = os.getcwd()"
   ]
  },
  {
   "cell_type": "code",
   "execution_count": 3,
   "metadata": {},
   "outputs": [],
   "source": [
    "#Writing in the training file \n",
    "def write_file(file_name,line):\n",
    "    with open(file_name,'a',encoding=\"utf-8\" ) as fileWrite:\n",
    "        fileWrite.write( line)\n",
    "        fileWrite.write('\\n')"
   ]
  },
  {
   "cell_type": "code",
   "execution_count": 4,
   "metadata": {},
   "outputs": [],
   "source": [
    "file_name='trainfile1.txt'"
   ]
  },
  {
   "cell_type": "code",
   "execution_count": 5,
   "metadata": {},
   "outputs": [],
   "source": [
    "def clean_file(file_name):\n",
    "    fileRead=open(file_name,'w').close()\n",
    "    \n",
    "clean_file(file_name)"
   ]
  },
  {
   "cell_type": "code",
   "execution_count": 6,
   "metadata": {},
   "outputs": [],
   "source": [
    "pos_train_dir=os.path.join(DATA_DIR,'train','pos')\n",
    "neg_train_dir=os.path.join(DATA_DIR,'train','neg')\n",
    "pos_test_dir=os.path.join(DATA_DIR,'test','pos')\n",
    "neg_test_dir=os.path.join(DATA_DIR,'test','neg')\n",
    "clean_file(file_name)\n",
    "for file in os.listdir(pos_train_dir):\n",
    "    with open(os.path.join(pos_train_dir,file),'r', encoding = \"utf-8\") as fileRead:\n",
    "        line=fileRead.read()\n",
    "        write_file(file_name,line+'\\t'+str(1))\n",
    "for file in os.listdir(neg_train_dir):\n",
    "    with open(os.path.join(neg_train_dir,file),'r', encoding = \"utf-8\") as fileRead:\n",
    "        line=fileRead.read()\n",
    "        write_file(file_name,line+'\\t'+str(0))\n",
    "for file in os.listdir(pos_test_dir):\n",
    "    with open(os.path.join(pos_test_dir,file),'r', encoding = \"utf-8\") as fileRead:\n",
    "        line=fileRead.read()\n",
    "        write_file(file_name,line+'\\t'+str(1))\n",
    "for file in os.listdir(neg_test_dir):\n",
    "    with open(os.path.join(neg_test_dir,file),'r', encoding = \"utf-8\") as fileRead:\n",
    "        line=fileRead.read()\n",
    "        write_file(file_name,line+'\\t'+str(0))\n",
    "# write_file('train_file.txt')"
   ]
  },
  {
   "cell_type": "markdown",
   "metadata": {},
   "source": [
    "Generating the Word frequencies"
   ]
  },
  {
   "cell_type": "code",
   "execution_count": 7,
   "metadata": {},
   "outputs": [],
   "source": [
    "maxlen = 0\n",
    "word_freqs = collections.Counter()\n",
    "num_recs = 0\n",
    "ftrain = open(os.path.join(DATA_DIR, \"trainfile1.txt\"), 'rb')\n",
    "#stopwords_list=stopwords.words(\"english\")\n",
    "for line in ftrain:\n",
    "    #words=[]\n",
    "    sentence,label=line.strip()[:-2],line.strip()[-1]\n",
    "    words = nltk.word_tokenize(sentence.decode(\"ascii\", \"ignore\").lower())\n",
    "#     for word in words:\n",
    "# #             word = word.lower() # in case they arenet all lower cased\n",
    "#         if word not in stopwords.words(\"english\"):\n",
    "#     for item in words_temp:\n",
    "#         if item not in stopwords_list:\n",
    "#             words.append(item)          \n",
    "    if len(words) > maxlen:\n",
    "        maxlen = len(words)\n",
    "    for word in words:\n",
    "        word_freqs[word] += 1\n",
    "    num_recs += 1\n",
    "ftrain.close()"
   ]
  },
  {
   "cell_type": "markdown",
   "metadata": {},
   "source": [
    "Creating Word2index"
   ]
  },
  {
   "cell_type": "code",
   "execution_count": 8,
   "metadata": {},
   "outputs": [],
   "source": [
    "MAX_FEATURES = 2000 \n",
    "MAX_SENTENCE_LENGTH = 500\n",
    "vocab_size = min(MAX_FEATURES, len(word_freqs)) + 2\n",
    "word2index = {x[0]: i+2 for i, x in\n",
    "enumerate(word_freqs.most_common(MAX_FEATURES))}\n",
    "word2index[\"PAD\"] = 0\n",
    "word2index[\"UNK\"] = 1\n",
    "index2word = {v:k for k, v in word2index.items()}"
   ]
  },
  {
   "cell_type": "markdown",
   "metadata": {},
   "source": [
    "Collecting labels"
   ]
  },
  {
   "cell_type": "code",
   "execution_count": 9,
   "metadata": {},
   "outputs": [],
   "source": [
    "labels=[]\n",
    "file_name=\"trainfile1.txt\"\n",
    "file_path=DATA_DIR\n",
    "with open(os.path.join(file_path,file_name),'r',encoding = \"utf-8\") as fileRead:\n",
    "    for line in fileRead:\n",
    "        l=line.strip()[-1]\n",
    "        labels.append(l)\n",
    "label_set_list=list(set(labels))\n",
    "nos_labels=len(label_set_list)"
   ]
  },
  {
   "cell_type": "markdown",
   "metadata": {},
   "source": [
    "Creating input and output vectors."
   ]
  },
  {
   "cell_type": "code",
   "execution_count": 10,
   "metadata": {},
   "outputs": [],
   "source": [
    "X = np.empty((num_recs, ), dtype=list)\n",
    "y = np.zeros(( num_recs, nos_labels))\n",
    "# print(y)\n",
    "i = 0\n",
    "ftrain = open(os.path.join(DATA_DIR, \"trainfile1.txt\"), 'r',encoding=\"utf-8\")\n",
    "for line in ftrain:\n",
    "    sentence,label=line.strip()[:-2],line.strip()[-1]\n",
    "    words = nltk.word_tokenize(sentence.lower())\n",
    "    label=label.lower()\n",
    "    seqs = []\n",
    "    dummy_vec=[0]*nos_labels\n",
    "    for word in words:\n",
    "        if word in word2index:\n",
    "            seqs.append(word2index[word])\n",
    "        else:\n",
    "            seqs.append(word2index[\"UNK\"])\n",
    "    X[i] = seqs\n",
    "    dummy_vec[label_set_list.index(label)]=1\n",
    "    y[i]=dummy_vec    \n",
    "    i+=1\n",
    "ftrain.close()\n",
    "X = sequence.pad_sequences(X, maxlen=MAX_SENTENCE_LENGTH)\n"
   ]
  },
  {
   "cell_type": "code",
   "execution_count": 11,
   "metadata": {},
   "outputs": [],
   "source": [
    "Xtrain, Xtest, ytrain, ytest = train_test_split(X, y, test_size=0.2, random_state=42)\n"
   ]
  },
  {
   "cell_type": "markdown",
   "metadata": {},
   "source": [
    "Generating the CNN Model"
   ]
  },
  {
   "cell_type": "code",
   "execution_count": 12,
   "metadata": {},
   "outputs": [
    {
     "name": "stdout",
     "output_type": "stream",
     "text": [
      "_________________________________________________________________\n",
      "Layer (type)                 Output Shape              Param #   \n",
      "=================================================================\n",
      "embedding_1 (Embedding)      (None, 500, 32)           64064     \n",
      "_________________________________________________________________\n",
      "conv1d_1 (Conv1D)            (None, 500, 32)           3104      \n",
      "_________________________________________________________________\n",
      "max_pooling1d_1 (MaxPooling1 (None, 250, 32)           0         \n",
      "_________________________________________________________________\n",
      "flatten_1 (Flatten)          (None, 8000)              0         \n",
      "_________________________________________________________________\n",
      "dense_1 (Dense)              (None, 250)               2000250   \n",
      "_________________________________________________________________\n",
      "dense_2 (Dense)              (None, 2)                 502       \n",
      "=================================================================\n",
      "Total params: 2,067,920\n",
      "Trainable params: 2,067,920\n",
      "Non-trainable params: 0\n",
      "_________________________________________________________________\n",
      "None\n"
     ]
    }
   ],
   "source": [
    "model = Sequential()\n",
    "model.add(Embedding(vocab_size, 32, input_length=MAX_SENTENCE_LENGTH))\n",
    "model.add(Conv1D(filters=32, kernel_size=3, padding='same', activation='relu'))\n",
    "# model.add(Conv1D(filters=32, kernel_size=3, padding='same', activation='relu'))\n",
    "model.add(MaxPooling1D(pool_size=2))\n",
    "model.add(Flatten())\n",
    "model.add(Dense(250, activation='relu'))\n",
    "model.add(Dense(2, activation='sigmoid'))\n",
    "model.compile(loss='binary_crossentropy', optimizer='adam', metrics=['accuracy'])\n",
    "print(model.summary())"
   ]
  },
  {
   "cell_type": "markdown",
   "metadata": {},
   "source": [
    "Training the model"
   ]
  },
  {
   "cell_type": "code",
   "execution_count": 13,
   "metadata": {},
   "outputs": [
    {
     "name": "stdout",
     "output_type": "stream",
     "text": [
      "Train on 40000 samples, validate on 10000 samples\n",
      "Epoch 1/2\n",
      "40000/40000 [==============================] - 104s 3ms/step - loss: 0.3591 - acc: 0.8293 - val_loss: 0.2833 - val_acc: 0.8842\n",
      "Epoch 2/2\n",
      "40000/40000 [==============================] - 103s 3ms/step - loss: 0.2443 - acc: 0.9005 - val_loss: 0.2662 - val_acc: 0.8927\n",
      "Accuracy: 89.27%\n"
     ]
    }
   ],
   "source": [
    "# Fit the model\n",
    "history=model.fit(Xtrain, ytrain, validation_data=(Xtest, ytest), epochs=2, batch_size=32)\n",
    "\n",
    "# Final evaluation of the model\n",
    "scores = model.evaluate(Xtest, ytest,verbose=0)\n",
    "print(\"Accuracy: %.2f%%\" % (scores[1]*100))"
   ]
  },
  {
   "cell_type": "code",
   "execution_count": 14,
   "metadata": {},
   "outputs": [
    {
     "data": {
      "image/png": "[encoded data removed]",
      "text/plain": [
       "<matplotlib.figure.Figure at 0x22fc7eb1e10>"
      ]
     },
     "metadata": {},
     "output_type": "display_data"
    }
   ],
   "source": [
    "#Plotting the model.\n",
    "plt.subplot(211)\n",
    "plt.title(\"Accuracy\")\n",
    "plt.plot(history.history[\"acc\"], color=\"g\", label=\"Train\")\n",
    "plt.plot(history.history[\"val_acc\"], color=\"b\", label=\"Validation\")\n",
    "plt.legend(loc=\"best\")\n",
    "plt.subplot(212)\n",
    "plt.title(\"Loss\")\n",
    "plt.plot(history.history[\"loss\"], color=\"g\", label=\"Train\")\n",
    "plt.plot(history.history[\"val_loss\"], color=\"b\", label=\"Validation\")\n",
    "plt.legend(loc=\"best\")\n",
    "plt.tight_layout()\n",
    "plt.show()"
   ]
  }
 ],
 "metadata": {
  "kernelspec": {
   "display_name": "Python 3",
   "language": "python",
   "name": "python3"
  },
  "language_info": {
   "codemirror_mode": {
    "name": "ipython",
    "version": 3
   },
   "file_extension": ".py",
   "mimetype": "text/x-python",
   "name": "python",
   "nbconvert_exporter": "python",
   "pygments_lexer": "ipython3",
   "version": "3.6.4"
  }
 },
 "nbformat": 4,
 "nbformat_minor": 2
}
